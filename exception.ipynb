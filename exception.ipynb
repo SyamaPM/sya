{
 "cells": [
  {
   "cell_type": "code",
   "execution_count": 3,
   "id": "c1feae17-3644-4490-bac4-34e9f84768ee",
   "metadata": {},
   "outputs": [
    {
     "name": "stdout",
     "output_type": "stream",
     "text": [
      "an error occured\n"
     ]
    }
   ],
   "source": [
    "c=[1,2,3]\n",
    "try:\n",
    "    print(\"second element=%d\"%(c[i]))\n",
    "    print(\"second element=%d\"%(c[3]))\n",
    "except:\n",
    "    print(\"an error occured\")\n",
    "    "
   ]
  },
  {
   "cell_type": "code",
   "execution_count": 8,
   "id": "ecaba56c-72ec-46d0-b457-d95ca6b0bd2e",
   "metadata": {},
   "outputs": [
    {
     "name": "stdout",
     "output_type": "stream",
     "text": [
      "zero division error occured & handled\n"
     ]
    }
   ],
   "source": [
    "def func(a):\n",
    "    if a<4:\n",
    "        b=a/(a-3)\n",
    "    print(\"value of b=\",b)\n",
    "    try:\n",
    "        if a<4:\n",
    "            b=a/(a-3)\n",
    "        print(\"value of b=\",b)\n",
    "    except NameError:\n",
    "        print(\"NameError occured & handled\")\n",
    "try:\n",
    "    func(3)\n",
    "    func(5)\n",
    "except ZeroDivisionError:\n",
    "    print(\"zero division error occured & handled\")\n"
   ]
  },
  {
   "cell_type": "code",
   "execution_count": 10,
   "id": "9728f0a7-771f-4878-9f5e-120159bd82e0",
   "metadata": {},
   "outputs": [
    {
     "name": "stdout",
     "output_type": "stream",
     "text": [
      "zero division error occured & handled\n",
      "NameError occured & handled\n"
     ]
    }
   ],
   "source": [
    "def func(a):\n",
    "    if a<4:\n",
    "        b=a/(a-3)\n",
    "    print(\"value of b=\",b)\n",
    "   \n",
    "try:\n",
    "    func(3)\n",
    "except ZeroDivisionError:\n",
    "    print(\"zero division error occured & handled\")\n",
    "try:\n",
    "    func(5)\n",
    "except NameError:\n",
    "    print(\"NameError occured & handled\")\n"
   ]
  },
  {
   "cell_type": "code",
   "execution_count": 11,
   "id": "f2b2a2b5-1101-4060-b128-746c969f4c93",
   "metadata": {},
   "outputs": [
    {
     "name": "stdout",
     "output_type": "stream",
     "text": [
      "-5.0\n",
      "a/b result in 0\n"
     ]
    }
   ],
   "source": [
    "def AbyB(a,b):\n",
    "    try:\n",
    "        c=((a+b)/(a-b))\n",
    "    except ZeroDivisionError:\n",
    "        print(\"a/b result in 0\")\n",
    "    else: \n",
    "        print(c)\n",
    "AbyB(2.0,3.0)\n",
    "AbyB(3.0,3.0)\n",
    "        "
   ]
  },
  {
   "cell_type": "code",
   "execution_count": 12,
   "id": "3c686c9b-c331-4ce3-a50b-4c7a9b841ba9",
   "metadata": {},
   "outputs": [
    {
     "name": "stdout",
     "output_type": "stream",
     "text": [
      "can't divide by zero\n",
      "this is always executed\n"
     ]
    }
   ],
   "source": [
    "try:\n",
    "    k=5//0\n",
    "    print(k)\n",
    "except ZeroDivisionError:\n",
    "    print(\"can't divide by zero\")\n",
    "finally:\n",
    "    print(\"this is always executed\")\n"
   ]
  },
  {
   "cell_type": "code",
   "execution_count": 13,
   "id": "dae70229-1ddf-45bf-ad4b-d852f2623ba5",
   "metadata": {},
   "outputs": [
    {
     "name": "stdout",
     "output_type": "stream",
     "text": [
      "an exception\n"
     ]
    },
    {
     "ename": "NameError",
     "evalue": "hi there",
     "output_type": "error",
     "traceback": [
      "\u001b[1;31m---------------------------------------------------------------------------\u001b[0m",
      "\u001b[1;31mNameError\u001b[0m                                 Traceback (most recent call last)",
      "Cell \u001b[1;32mIn[13], line 2\u001b[0m\n\u001b[0;32m      1\u001b[0m \u001b[38;5;28;01mtry\u001b[39;00m:\n\u001b[1;32m----> 2\u001b[0m     \u001b[38;5;28;01mraise\u001b[39;00m \u001b[38;5;167;01mNameError\u001b[39;00m(\u001b[38;5;124m\"\u001b[39m\u001b[38;5;124mhi there\u001b[39m\u001b[38;5;124m\"\u001b[39m)\n\u001b[0;32m      3\u001b[0m \u001b[38;5;28;01mexcept\u001b[39;00m \u001b[38;5;167;01mNameError\u001b[39;00m:\n\u001b[0;32m      4\u001b[0m     \u001b[38;5;28mprint\u001b[39m(\u001b[38;5;124m\"\u001b[39m\u001b[38;5;124man exception\u001b[39m\u001b[38;5;124m\"\u001b[39m)\n",
      "\u001b[1;31mNameError\u001b[0m: hi there"
     ]
    }
   ],
   "source": [
    "try:\n",
    "    raise NameError(\"hi there\")\n",
    "except NameError:\n",
    "    print(\"an exception\")\n",
    "    raise"
   ]
  },
  {
   "cell_type": "code",
   "execution_count": 15,
   "id": "a34c3b0b-a204-4c82-8c3a-12681b7549e4",
   "metadata": {},
   "outputs": [
    {
     "name": "stdout",
     "output_type": "stream",
     "text": [
      "a new exception occured :  6\n"
     ]
    }
   ],
   "source": [
    "class MyError(Exception):\n",
    "    def __init__(self,value):\n",
    "        self.value=value\n",
    "    def __str__(self):\n",
    "        return(repr(self.value))\n",
    "try:\n",
    "    raise(MyError(3*2))\n",
    "except MyError as error:\n",
    "    print(\"a new exception occured : \",error.value)\n",
    "        \n"
   ]
  },
  {
   "cell_type": "code",
   "execution_count": 16,
   "id": "69bb2a56-0dc3-4cac-8b15-ba2ac19d3a46",
   "metadata": {},
   "outputs": [
    {
     "name": "stdout",
     "output_type": "stream",
     "text": [
      "no match\n"
     ]
    }
   ],
   "source": [
    "import re\n",
    "txt=\"The rain in Spain\"\n",
    "x=re.search(\"^The.*spain$\",txt)\n",
    "if x:\n",
    "    print(\"yes we have a match\")\n",
    "else:\n",
    "    print(\"no match\")\n"
   ]
  },
  {
   "cell_type": "code",
   "execution_count": 18,
   "id": "d19e24f6-0dd2-4941-a966-9191c9ee07d0",
   "metadata": {},
   "outputs": [
    {
     "name": "stdout",
     "output_type": "stream",
     "text": [
      "['ai', 'ai']\n",
      "yes atleast one match\n"
     ]
    }
   ],
   "source": [
    "import re\n",
    "txt=\"The rain in Spain\"\n",
    "x=re.findall(\"ai\",txt)\n",
    "print(x)\n",
    "if (x):\n",
    "    print(\"yes atleast one match\")\n",
    "else:\n",
    "    print(\"no match\")\n"
   ]
  },
  {
   "cell_type": "code",
   "execution_count": 21,
   "id": "88884cd6-0c32-4c69-b60b-091c75f5131a",
   "metadata": {},
   "outputs": [
    {
     "name": "stdout",
     "output_type": "stream",
     "text": [
      "the first whitespace character in position 3\n"
     ]
    },
    {
     "name": "stderr",
     "output_type": "stream",
     "text": [
      "<>:3: SyntaxWarning: invalid escape sequence '\\s'\n",
      "<>:3: SyntaxWarning: invalid escape sequence '\\s'\n",
      "C:\\Users\\USER\\AppData\\Local\\Temp\\ipykernel_3404\\2239860114.py:3: SyntaxWarning: invalid escape sequence '\\s'\n",
      "  x=re.search('\\s',txt)\n"
     ]
    }
   ],
   "source": [
    "import re\n",
    "txt=\"The rain in Spain\"\n",
    "x=re.search(\"\\s\",txt)\n",
    "print(\"the first whitespace character in position\",x.start())\n",
    "\n"
   ]
  },
  {
   "cell_type": "code",
   "execution_count": 22,
   "id": "4b6500a1-b50f-41ea-9302-ae71357e2509",
   "metadata": {},
   "outputs": [
    {
     "name": "stdout",
     "output_type": "stream",
     "text": [
      "None\n"
     ]
    }
   ],
   "source": [
    "import re\n",
    "txt=\"The rain in Spain\"\n",
    "x=re.search(\"portugal\",txt)\n",
    "print(x)"
   ]
  },
  {
   "cell_type": "code",
   "execution_count": 23,
   "id": "8399a8f3-bb29-4cf2-ae02-0bb49996e803",
   "metadata": {},
   "outputs": [
    {
     "name": "stdout",
     "output_type": "stream",
     "text": [
      "['The', 'rain', 'in', 'Spain']\n"
     ]
    },
    {
     "name": "stderr",
     "output_type": "stream",
     "text": [
      "<>:3: SyntaxWarning: invalid escape sequence '\\s'\n",
      "<>:3: SyntaxWarning: invalid escape sequence '\\s'\n",
      "C:\\Users\\USER\\AppData\\Local\\Temp\\ipykernel_3404\\2845351984.py:3: SyntaxWarning: invalid escape sequence '\\s'\n",
      "  x=re.split(\"\\s\",txt)\n"
     ]
    }
   ],
   "source": [
    "import re\n",
    "txt=\"The rain in Spain\"\n",
    "x=re.split(\"\\s\",txt)\n",
    "print(x)"
   ]
  },
  {
   "cell_type": "code",
   "execution_count": 24,
   "id": "402061ed-b4c9-4e46-8220-e0d0a0f32c97",
   "metadata": {},
   "outputs": [
    {
     "name": "stdout",
     "output_type": "stream",
     "text": [
      "['The', 'rain in Spain']\n"
     ]
    },
    {
     "name": "stderr",
     "output_type": "stream",
     "text": [
      "<>:3: SyntaxWarning: invalid escape sequence '\\s'\n",
      "<>:3: SyntaxWarning: invalid escape sequence '\\s'\n",
      "C:\\Users\\USER\\AppData\\Local\\Temp\\ipykernel_3404\\1585788483.py:3: SyntaxWarning: invalid escape sequence '\\s'\n",
      "  x=re.split(\"\\s\",txt,1)\n",
      "C:\\Users\\USER\\AppData\\Local\\Temp\\ipykernel_3404\\1585788483.py:3: DeprecationWarning: 'maxsplit' is passed as positional argument\n",
      "  x=re.split(\"\\s\",txt,1)\n"
     ]
    }
   ],
   "source": [
    "import re\n",
    "txt=\"The rain in Spain\"\n",
    "x=re.split(\"\\s\",txt,1)\n",
    "print(x)"
   ]
  },
  {
   "cell_type": "code",
   "execution_count": 25,
   "id": "86e330a4-1a2a-4556-b6c1-2224bc429a55",
   "metadata": {},
   "outputs": [
    {
     "name": "stdout",
     "output_type": "stream",
     "text": [
      "The9rain9in9Spain\n"
     ]
    },
    {
     "name": "stderr",
     "output_type": "stream",
     "text": [
      "<>:3: SyntaxWarning: invalid escape sequence '\\s'\n",
      "<>:3: SyntaxWarning: invalid escape sequence '\\s'\n",
      "C:\\Users\\USER\\AppData\\Local\\Temp\\ipykernel_3404\\2146161240.py:3: SyntaxWarning: invalid escape sequence '\\s'\n",
      "  x=re.sub(\"\\s\",\"9\",txt)\n"
     ]
    }
   ],
   "source": [
    "import re\n",
    "txt=\"The rain in Spain\"\n",
    "x=re.sub(\"\\s\",\"9\",txt)\n",
    "print(x)"
   ]
  },
  {
   "cell_type": "code",
   "execution_count": 26,
   "id": "c8b5bc8c-ed04-46d7-94fb-b0a553d07cad",
   "metadata": {},
   "outputs": [
    {
     "name": "stdout",
     "output_type": "stream",
     "text": [
      "The9rain9in Spain\n"
     ]
    },
    {
     "name": "stderr",
     "output_type": "stream",
     "text": [
      "<>:3: SyntaxWarning: invalid escape sequence '\\s'\n",
      "<>:3: SyntaxWarning: invalid escape sequence '\\s'\n",
      "C:\\Users\\USER\\AppData\\Local\\Temp\\ipykernel_3404\\3426960159.py:3: SyntaxWarning: invalid escape sequence '\\s'\n",
      "  x=re.sub(\"\\s\",\"9\",txt,2)\n",
      "C:\\Users\\USER\\AppData\\Local\\Temp\\ipykernel_3404\\3426960159.py:3: DeprecationWarning: 'count' is passed as positional argument\n",
      "  x=re.sub(\"\\s\",\"9\",txt,2)\n"
     ]
    }
   ],
   "source": [
    "import re\n",
    "txt=\"The rain in Spain\"\n",
    "x=re.sub(\"\\s\",\"9\",txt,2)\n",
    "print(x)"
   ]
  },
  {
   "cell_type": "code",
   "execution_count": 27,
   "id": "031eac79-c620-4443-bb52-43786741ac93",
   "metadata": {},
   "outputs": [
    {
     "name": "stdout",
     "output_type": "stream",
     "text": [
      "(12, 17)\n"
     ]
    }
   ],
   "source": [
    "import re\n",
    "txt=\"The rain in Spain\"\n",
    "x=re.search(r\"\\bS\\w+\",txt)\n",
    "print(x.span())"
   ]
  },
  {
   "cell_type": "code",
   "execution_count": 29,
   "id": "ed1543aa-6dca-48df-b1e7-55e441c71fab",
   "metadata": {},
   "outputs": [
    {
     "name": "stdout",
     "output_type": "stream",
     "text": [
      "The rain in Spain\n"
     ]
    }
   ],
   "source": [
    "import re\n",
    "txt=\"The rain in Spain\"\n",
    "x=re.search(r\"\\bS\\w+\",txt)\n",
    "print(x.string)"
   ]
  },
  {
   "cell_type": "code",
   "execution_count": 30,
   "id": "2be02a5b-64bc-4e01-b630-a704ccec516d",
   "metadata": {},
   "outputs": [
    {
     "name": "stdout",
     "output_type": "stream",
     "text": [
      "Spain\n"
     ]
    }
   ],
   "source": [
    "import re\n",
    "txt=\"The rain in Spain\"\n",
    "x=re.search(r\"\\bS\\w+\",txt)\n",
    "print(x.group())"
   ]
  },
  {
   "cell_type": "code",
   "execution_count": 31,
   "id": "f5d78117-bf76-48b5-a7b3-a729b67a2b60",
   "metadata": {},
   "outputs": [],
   "source": [
    "from tkinter import *"
   ]
  },
  {
   "cell_type": "code",
   "execution_count": 33,
   "id": "e2a6c0e9-4572-4ba2-958e-45690b97bb99",
   "metadata": {},
   "outputs": [],
   "source": [
    "from tkinter import *\n",
    "root=Tk()\n",
    "a=Label(root,text=\"Hello world\")\n",
    "a.pack()\n",
    "root.mainloop()\n"
   ]
  },
  {
   "cell_type": "code",
   "execution_count": 37,
   "id": "e707c2a8-53c1-453c-8d7f-e8ecda763c03",
   "metadata": {},
   "outputs": [],
   "source": [
    "from tkinter import *\n",
    "root=Tk()\n",
    "root.geometry('100x100')\n",
    "btn=Button(root,text=\"click me\",bd='5',command=root.destroy)\n",
    "btn.pack(side='top')\n",
    "root.mainloop()"
   ]
  },
  {
   "cell_type": "code",
   "execution_count": 56,
   "id": "c6bc87cb-10f0-42e3-89f4-52d1c2d7f0b8",
   "metadata": {},
   "outputs": [],
   "source": [
    "from tkinter import *\n",
    "from tkinter.ttk import *\n",
    "root=Tk()\n",
    "root.geometry('100x100')\n",
    "btn=Button(root,text=\"click me\",command=root.destroy)\n",
    "btn.pack(side='top')\n",
    "root.mainloop()"
   ]
  },
  {
   "cell_type": "code",
   "execution_count": 10,
   "id": "e8b5ee37-1901-4093-bd80-341d6034b3d4",
   "metadata": {},
   "outputs": [],
   "source": [
    "from tkinter import *\n",
    "from tkinter.ttk import *\n",
    "root=Tk()\n",
    "root.geometry('200x200')\n",
    "style=Style()\n",
    "style.configure('W.TButton',font=('calibri',10,'bold','underline'),foreground='red')\n",
    "btn1=Button(root,text='Quit',style='W.TButton',command=root.destroy)\n",
    "btn1.grid(row=0,column=3,padx=10,pady=10)\n",
    "btn2=Button(root,text='click me',command=None)\n",
    "btn2.grid(row=1,column=3,padx=10,pady=10)\n",
    "root.mainloop()"
   ]
  },
  {
   "cell_type": "code",
   "execution_count": 11,
   "id": "ca533365-421b-4e20-9ead-d4bd1e1071c5",
   "metadata": {},
   "outputs": [],
   "source": [
    "from tkinter import *\n",
    "from tkinter.ttk import *\n",
    "root=Tk()\n",
    "root.geometry('100x100')\n",
    "style=Style()\n",
    "style.configure('TButton',font=('calibri',10,'bold','underline'),foreground='red')\n",
    "btn1=Button(root,text='Quit',style='TButton',command=root.destroy)\n",
    "btn1.grid(row=0,column=3,padx=100)\n",
    "btn2=Button(root,text='click me',command=None)\n",
    "btn2.grid(row=1,column=3,pady=10,padx=100)\n",
    "root.mainloop()"
   ]
  },
  {
   "cell_type": "code",
   "execution_count": 4,
   "id": "e910dff7-339f-4f29-965f-f0e7e61ccfbb",
   "metadata": {},
   "outputs": [],
   "source": [
    "from tkinter import *\n",
    "from tkinter.ttk import *\n",
    "\n",
    "root = Tk()\n",
    "root.geometry('200x200')  # Increased window size to ensure proper display\n",
    "\n",
    "style = Style()\n",
    "style.configure('W.TButton', font=('calibri', 10, 'bold', 'underline'), foreground='red')\n",
    "\n",
    "btn1 = Button(root, text='Quit', style='W.TButton', command=root.destroy)\n",
    "btn1.grid(row=0, column=1, padx=10, pady=10)  # Adjusted position and padding\n",
    "btn2 = Button(root, text='Click me', command=None)\n",
    "btn2.grid(row=1, column=1, padx=10, pady=10)  # Adjusted position and padding\n",
    "\n",
    "root.mainloop()"
   ]
  },
  {
   "cell_type": "code",
   "execution_count": null,
   "id": "4fcfda80-197a-4c90-b630-5c627813f8b4",
   "metadata": {},
   "outputs": [],
   "source": []
  }
 ],
 "metadata": {
  "kernelspec": {
   "display_name": "Python 3 (ipykernel)",
   "language": "python",
   "name": "python3"
  },
  "language_info": {
   "codemirror_mode": {
    "name": "ipython",
    "version": 3
   },
   "file_extension": ".py",
   "mimetype": "text/x-python",
   "name": "python",
   "nbconvert_exporter": "python",
   "pygments_lexer": "ipython3",
   "version": "3.13.0"
  }
 },
 "nbformat": 4,
 "nbformat_minor": 5
}
